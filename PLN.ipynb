{
  "nbformat": 4,
  "nbformat_minor": 0,
  "metadata": {
    "colab": {
      "provenance": [],
      "toc_visible": true
    },
    "kernelspec": {
      "name": "python3",
      "display_name": "Python 3"
    },
    "language_info": {
      "name": "python"
    }
  },
  "cells": [
    {
      "cell_type": "markdown",
      "source": [
        "## Importando recursos"
      ],
      "metadata": {
        "id": "IYDr5ITf0Jin"
      }
    },
    {
      "cell_type": "code",
      "execution_count": 362,
      "metadata": {
        "id": "gHkOieECz7y8"
      },
      "outputs": [],
      "source": [
        "import pandas as pd\n",
        "import numpy as np\n",
        "import matplotlib.pyplot as plt\n",
        "import seaborn as sns\n",
        "import nltk\n",
        "from nltk.stem import WordNetLemmatizer\n",
        "from transformers import BertTokenizer, BertModel\n",
        "from scipy.special import softmax\n",
        "from tqdm import tqdm\n",
        "import gensim\n",
        "import re\n",
        "from sklearn.feature_extraction.text import CountVectorizer\n",
        "from sklearn.model_selection import train_test_split\n",
        "from sklearn.svm import SVC"
      ]
    },
    {
      "cell_type": "code",
      "source": [
        "from google.colab import drive\n",
        "drive.mount('/content/drive')"
      ],
      "metadata": {
        "colab": {
          "base_uri": "https://localhost:8080/"
        },
        "id": "ancPOwG7aQHR",
        "outputId": "b1dfce85-d500-47ad-ccf9-8530f912d38c"
      },
      "execution_count": 363,
      "outputs": [
        {
          "output_type": "stream",
          "name": "stdout",
          "text": [
            "Drive already mounted at /content/drive; to attempt to forcibly remount, call drive.mount(\"/content/drive\", force_remount=True).\n"
          ]
        }
      ]
    },
    {
      "cell_type": "markdown",
      "source": [
        "## Coleta dos dados"
      ],
      "metadata": {
        "id": "GT7sc8Or-FxE"
      }
    },
    {
      "cell_type": "code",
      "source": [
        "df = pd.read_csv('/content/drive/MyDrive/Reviews.csv', encoding='ISO-8859-1', sep=',' )\n",
        "\n",
        "df = df.head(600)"
      ],
      "metadata": {
        "id": "OnhDitqR0VwS"
      },
      "execution_count": 364,
      "outputs": []
    },
    {
      "cell_type": "code",
      "source": [
        "df.head()"
      ],
      "metadata": {
        "colab": {
          "base_uri": "https://localhost:8080/",
          "height": 293
        },
        "id": "TxbsYlVZBnxy",
        "outputId": "9f1e5d0c-f76a-4173-a961-96ce8e03516e"
      },
      "execution_count": 365,
      "outputs": [
        {
          "output_type": "execute_result",
          "data": {
            "text/plain": [
              "   Id   ProductId          UserId                      ProfileName  \\\n",
              "0   1  B001E4KFG0  A3SGXH7AUHU8GW                       delmartian   \n",
              "1   2  B00813GRG4  A1D87F6ZCVE5NK                           dll pa   \n",
              "2   3  B000LQOCH0   ABXLMWJIXXAIN  Natalia Corres \"Natalia Corres\"   \n",
              "3   4  B000UA0QIQ  A395BORC6FGVXV                             Karl   \n",
              "4   5  B006K2ZZ7K  A1UQRSCLF8GW1T    Michael D. Bigham \"M. Wassir\"   \n",
              "\n",
              "   HelpfulnessNumerator  HelpfulnessDenominator  Score        Time  \\\n",
              "0                     1                       1      5  1303862400   \n",
              "1                     0                       0      1  1346976000   \n",
              "2                     1                       1      4  1219017600   \n",
              "3                     3                       3      2  1307923200   \n",
              "4                     0                       0      5  1350777600   \n",
              "\n",
              "                 Summary                                               Text  \n",
              "0  Good Quality Dog Food  I have bought several of the Vitality canned d...  \n",
              "1      Not as Advertised  Product arrived labeled as Jumbo Salted Peanut...  \n",
              "2  \"Delight\" says it all  This is a confection that has been around a fe...  \n",
              "3         Cough Medicine  If you are looking for the secret ingredient i...  \n",
              "4            Great taffy  Great taffy at a great price.  There was a wid...  "
            ],
            "text/html": [
              "\n",
              "  <div id=\"df-2ba4de28-fe10-4637-b1cc-03110d40e9b9\" class=\"colab-df-container\">\n",
              "    <div>\n",
              "<style scoped>\n",
              "    .dataframe tbody tr th:only-of-type {\n",
              "        vertical-align: middle;\n",
              "    }\n",
              "\n",
              "    .dataframe tbody tr th {\n",
              "        vertical-align: top;\n",
              "    }\n",
              "\n",
              "    .dataframe thead th {\n",
              "        text-align: right;\n",
              "    }\n",
              "</style>\n",
              "<table border=\"1\" class=\"dataframe\">\n",
              "  <thead>\n",
              "    <tr style=\"text-align: right;\">\n",
              "      <th></th>\n",
              "      <th>Id</th>\n",
              "      <th>ProductId</th>\n",
              "      <th>UserId</th>\n",
              "      <th>ProfileName</th>\n",
              "      <th>HelpfulnessNumerator</th>\n",
              "      <th>HelpfulnessDenominator</th>\n",
              "      <th>Score</th>\n",
              "      <th>Time</th>\n",
              "      <th>Summary</th>\n",
              "      <th>Text</th>\n",
              "    </tr>\n",
              "  </thead>\n",
              "  <tbody>\n",
              "    <tr>\n",
              "      <th>0</th>\n",
              "      <td>1</td>\n",
              "      <td>B001E4KFG0</td>\n",
              "      <td>A3SGXH7AUHU8GW</td>\n",
              "      <td>delmartian</td>\n",
              "      <td>1</td>\n",
              "      <td>1</td>\n",
              "      <td>5</td>\n",
              "      <td>1303862400</td>\n",
              "      <td>Good Quality Dog Food</td>\n",
              "      <td>I have bought several of the Vitality canned d...</td>\n",
              "    </tr>\n",
              "    <tr>\n",
              "      <th>1</th>\n",
              "      <td>2</td>\n",
              "      <td>B00813GRG4</td>\n",
              "      <td>A1D87F6ZCVE5NK</td>\n",
              "      <td>dll pa</td>\n",
              "      <td>0</td>\n",
              "      <td>0</td>\n",
              "      <td>1</td>\n",
              "      <td>1346976000</td>\n",
              "      <td>Not as Advertised</td>\n",
              "      <td>Product arrived labeled as Jumbo Salted Peanut...</td>\n",
              "    </tr>\n",
              "    <tr>\n",
              "      <th>2</th>\n",
              "      <td>3</td>\n",
              "      <td>B000LQOCH0</td>\n",
              "      <td>ABXLMWJIXXAIN</td>\n",
              "      <td>Natalia Corres \"Natalia Corres\"</td>\n",
              "      <td>1</td>\n",
              "      <td>1</td>\n",
              "      <td>4</td>\n",
              "      <td>1219017600</td>\n",
              "      <td>\"Delight\" says it all</td>\n",
              "      <td>This is a confection that has been around a fe...</td>\n",
              "    </tr>\n",
              "    <tr>\n",
              "      <th>3</th>\n",
              "      <td>4</td>\n",
              "      <td>B000UA0QIQ</td>\n",
              "      <td>A395BORC6FGVXV</td>\n",
              "      <td>Karl</td>\n",
              "      <td>3</td>\n",
              "      <td>3</td>\n",
              "      <td>2</td>\n",
              "      <td>1307923200</td>\n",
              "      <td>Cough Medicine</td>\n",
              "      <td>If you are looking for the secret ingredient i...</td>\n",
              "    </tr>\n",
              "    <tr>\n",
              "      <th>4</th>\n",
              "      <td>5</td>\n",
              "      <td>B006K2ZZ7K</td>\n",
              "      <td>A1UQRSCLF8GW1T</td>\n",
              "      <td>Michael D. Bigham \"M. Wassir\"</td>\n",
              "      <td>0</td>\n",
              "      <td>0</td>\n",
              "      <td>5</td>\n",
              "      <td>1350777600</td>\n",
              "      <td>Great taffy</td>\n",
              "      <td>Great taffy at a great price.  There was a wid...</td>\n",
              "    </tr>\n",
              "  </tbody>\n",
              "</table>\n",
              "</div>\n",
              "    <div class=\"colab-df-buttons\">\n",
              "\n",
              "  <div class=\"colab-df-container\">\n",
              "    <button class=\"colab-df-convert\" onclick=\"convertToInteractive('df-2ba4de28-fe10-4637-b1cc-03110d40e9b9')\"\n",
              "            title=\"Convert this dataframe to an interactive table.\"\n",
              "            style=\"display:none;\">\n",
              "\n",
              "  <svg xmlns=\"http://www.w3.org/2000/svg\" height=\"24px\" viewBox=\"0 -960 960 960\">\n",
              "    <path d=\"M120-120v-720h720v720H120Zm60-500h600v-160H180v160Zm220 220h160v-160H400v160Zm0 220h160v-160H400v160ZM180-400h160v-160H180v160Zm440 0h160v-160H620v160ZM180-180h160v-160H180v160Zm440 0h160v-160H620v160Z\"/>\n",
              "  </svg>\n",
              "    </button>\n",
              "\n",
              "  <style>\n",
              "    .colab-df-container {\n",
              "      display:flex;\n",
              "      gap: 12px;\n",
              "    }\n",
              "\n",
              "    .colab-df-convert {\n",
              "      background-color: #E8F0FE;\n",
              "      border: none;\n",
              "      border-radius: 50%;\n",
              "      cursor: pointer;\n",
              "      display: none;\n",
              "      fill: #1967D2;\n",
              "      height: 32px;\n",
              "      padding: 0 0 0 0;\n",
              "      width: 32px;\n",
              "    }\n",
              "\n",
              "    .colab-df-convert:hover {\n",
              "      background-color: #E2EBFA;\n",
              "      box-shadow: 0px 1px 2px rgba(60, 64, 67, 0.3), 0px 1px 3px 1px rgba(60, 64, 67, 0.15);\n",
              "      fill: #174EA6;\n",
              "    }\n",
              "\n",
              "    .colab-df-buttons div {\n",
              "      margin-bottom: 4px;\n",
              "    }\n",
              "\n",
              "    [theme=dark] .colab-df-convert {\n",
              "      background-color: #3B4455;\n",
              "      fill: #D2E3FC;\n",
              "    }\n",
              "\n",
              "    [theme=dark] .colab-df-convert:hover {\n",
              "      background-color: #434B5C;\n",
              "      box-shadow: 0px 1px 3px 1px rgba(0, 0, 0, 0.15);\n",
              "      filter: drop-shadow(0px 1px 2px rgba(0, 0, 0, 0.3));\n",
              "      fill: #FFFFFF;\n",
              "    }\n",
              "  </style>\n",
              "\n",
              "    <script>\n",
              "      const buttonEl =\n",
              "        document.querySelector('#df-2ba4de28-fe10-4637-b1cc-03110d40e9b9 button.colab-df-convert');\n",
              "      buttonEl.style.display =\n",
              "        google.colab.kernel.accessAllowed ? 'block' : 'none';\n",
              "\n",
              "      async function convertToInteractive(key) {\n",
              "        const element = document.querySelector('#df-2ba4de28-fe10-4637-b1cc-03110d40e9b9');\n",
              "        const dataTable =\n",
              "          await google.colab.kernel.invokeFunction('convertToInteractive',\n",
              "                                                    [key], {});\n",
              "        if (!dataTable) return;\n",
              "\n",
              "        const docLinkHtml = 'Like what you see? Visit the ' +\n",
              "          '<a target=\"_blank\" href=https://colab.research.google.com/notebooks/data_table.ipynb>data table notebook</a>'\n",
              "          + ' to learn more about interactive tables.';\n",
              "        element.innerHTML = '';\n",
              "        dataTable['output_type'] = 'display_data';\n",
              "        await google.colab.output.renderOutput(dataTable, element);\n",
              "        const docLink = document.createElement('div');\n",
              "        docLink.innerHTML = docLinkHtml;\n",
              "        element.appendChild(docLink);\n",
              "      }\n",
              "    </script>\n",
              "  </div>\n",
              "\n",
              "\n",
              "<div id=\"df-5007e694-9aea-4700-a963-93a9db52ec2b\">\n",
              "  <button class=\"colab-df-quickchart\" onclick=\"quickchart('df-5007e694-9aea-4700-a963-93a9db52ec2b')\"\n",
              "            title=\"Suggest charts\"\n",
              "            style=\"display:none;\">\n",
              "\n",
              "<svg xmlns=\"http://www.w3.org/2000/svg\" height=\"24px\"viewBox=\"0 0 24 24\"\n",
              "     width=\"24px\">\n",
              "    <g>\n",
              "        <path d=\"M19 3H5c-1.1 0-2 .9-2 2v14c0 1.1.9 2 2 2h14c1.1 0 2-.9 2-2V5c0-1.1-.9-2-2-2zM9 17H7v-7h2v7zm4 0h-2V7h2v10zm4 0h-2v-4h2v4z\"/>\n",
              "    </g>\n",
              "</svg>\n",
              "  </button>\n",
              "\n",
              "<style>\n",
              "  .colab-df-quickchart {\n",
              "      --bg-color: #E8F0FE;\n",
              "      --fill-color: #1967D2;\n",
              "      --hover-bg-color: #E2EBFA;\n",
              "      --hover-fill-color: #174EA6;\n",
              "      --disabled-fill-color: #AAA;\n",
              "      --disabled-bg-color: #DDD;\n",
              "  }\n",
              "\n",
              "  [theme=dark] .colab-df-quickchart {\n",
              "      --bg-color: #3B4455;\n",
              "      --fill-color: #D2E3FC;\n",
              "      --hover-bg-color: #434B5C;\n",
              "      --hover-fill-color: #FFFFFF;\n",
              "      --disabled-bg-color: #3B4455;\n",
              "      --disabled-fill-color: #666;\n",
              "  }\n",
              "\n",
              "  .colab-df-quickchart {\n",
              "    background-color: var(--bg-color);\n",
              "    border: none;\n",
              "    border-radius: 50%;\n",
              "    cursor: pointer;\n",
              "    display: none;\n",
              "    fill: var(--fill-color);\n",
              "    height: 32px;\n",
              "    padding: 0;\n",
              "    width: 32px;\n",
              "  }\n",
              "\n",
              "  .colab-df-quickchart:hover {\n",
              "    background-color: var(--hover-bg-color);\n",
              "    box-shadow: 0 1px 2px rgba(60, 64, 67, 0.3), 0 1px 3px 1px rgba(60, 64, 67, 0.15);\n",
              "    fill: var(--button-hover-fill-color);\n",
              "  }\n",
              "\n",
              "  .colab-df-quickchart-complete:disabled,\n",
              "  .colab-df-quickchart-complete:disabled:hover {\n",
              "    background-color: var(--disabled-bg-color);\n",
              "    fill: var(--disabled-fill-color);\n",
              "    box-shadow: none;\n",
              "  }\n",
              "\n",
              "  .colab-df-spinner {\n",
              "    border: 2px solid var(--fill-color);\n",
              "    border-color: transparent;\n",
              "    border-bottom-color: var(--fill-color);\n",
              "    animation:\n",
              "      spin 1s steps(1) infinite;\n",
              "  }\n",
              "\n",
              "  @keyframes spin {\n",
              "    0% {\n",
              "      border-color: transparent;\n",
              "      border-bottom-color: var(--fill-color);\n",
              "      border-left-color: var(--fill-color);\n",
              "    }\n",
              "    20% {\n",
              "      border-color: transparent;\n",
              "      border-left-color: var(--fill-color);\n",
              "      border-top-color: var(--fill-color);\n",
              "    }\n",
              "    30% {\n",
              "      border-color: transparent;\n",
              "      border-left-color: var(--fill-color);\n",
              "      border-top-color: var(--fill-color);\n",
              "      border-right-color: var(--fill-color);\n",
              "    }\n",
              "    40% {\n",
              "      border-color: transparent;\n",
              "      border-right-color: var(--fill-color);\n",
              "      border-top-color: var(--fill-color);\n",
              "    }\n",
              "    60% {\n",
              "      border-color: transparent;\n",
              "      border-right-color: var(--fill-color);\n",
              "    }\n",
              "    80% {\n",
              "      border-color: transparent;\n",
              "      border-right-color: var(--fill-color);\n",
              "      border-bottom-color: var(--fill-color);\n",
              "    }\n",
              "    90% {\n",
              "      border-color: transparent;\n",
              "      border-bottom-color: var(--fill-color);\n",
              "    }\n",
              "  }\n",
              "</style>\n",
              "\n",
              "  <script>\n",
              "    async function quickchart(key) {\n",
              "      const quickchartButtonEl =\n",
              "        document.querySelector('#' + key + ' button');\n",
              "      quickchartButtonEl.disabled = true;  // To prevent multiple clicks.\n",
              "      quickchartButtonEl.classList.add('colab-df-spinner');\n",
              "      try {\n",
              "        const charts = await google.colab.kernel.invokeFunction(\n",
              "            'suggestCharts', [key], {});\n",
              "      } catch (error) {\n",
              "        console.error('Error during call to suggestCharts:', error);\n",
              "      }\n",
              "      quickchartButtonEl.classList.remove('colab-df-spinner');\n",
              "      quickchartButtonEl.classList.add('colab-df-quickchart-complete');\n",
              "    }\n",
              "    (() => {\n",
              "      let quickchartButtonEl =\n",
              "        document.querySelector('#df-5007e694-9aea-4700-a963-93a9db52ec2b button');\n",
              "      quickchartButtonEl.style.display =\n",
              "        google.colab.kernel.accessAllowed ? 'block' : 'none';\n",
              "    })();\n",
              "  </script>\n",
              "</div>\n",
              "\n",
              "    </div>\n",
              "  </div>\n"
            ],
            "application/vnd.google.colaboratory.intrinsic+json": {
              "type": "dataframe",
              "variable_name": "df",
              "summary": "{\n  \"name\": \"df\",\n  \"rows\": 600,\n  \"fields\": [\n    {\n      \"column\": \"Id\",\n      \"properties\": {\n        \"dtype\": \"number\",\n        \"std\": 173,\n        \"min\": 1,\n        \"max\": 600,\n        \"num_unique_values\": 600,\n        \"samples\": [\n          111,\n          420,\n          566\n        ],\n        \"semantic_type\": \"\",\n        \"description\": \"\"\n      }\n    },\n    {\n      \"column\": \"ProductId\",\n      \"properties\": {\n        \"dtype\": \"category\",\n        \"num_unique_values\": 136,\n        \"samples\": [\n          \"B007TFONH0\",\n          \"B0036VM05I\",\n          \"B002TDK0VK\"\n        ],\n        \"semantic_type\": \"\",\n        \"description\": \"\"\n      }\n    },\n    {\n      \"column\": \"UserId\",\n      \"properties\": {\n        \"dtype\": \"string\",\n        \"num_unique_values\": 584,\n        \"samples\": [\n          \"A37RRNHOYQ7JPH\",\n          \"ARONI7W0W677H\",\n          \"A7JWCYVPF7KCO\"\n        ],\n        \"semantic_type\": \"\",\n        \"description\": \"\"\n      }\n    },\n    {\n      \"column\": \"ProfileName\",\n      \"properties\": {\n        \"dtype\": \"string\",\n        \"num_unique_values\": 583,\n        \"samples\": [\n          \"talonmedic\",\n          \"Bill\",\n          \"gare\"\n        ],\n        \"semantic_type\": \"\",\n        \"description\": \"\"\n      }\n    },\n    {\n      \"column\": \"HelpfulnessNumerator\",\n      \"properties\": {\n        \"dtype\": \"number\",\n        \"std\": 2,\n        \"min\": 0,\n        \"max\": 43,\n        \"num_unique_values\": 18,\n        \"samples\": [\n          1,\n          0,\n          15\n        ],\n        \"semantic_type\": \"\",\n        \"description\": \"\"\n      }\n    },\n    {\n      \"column\": \"HelpfulnessDenominator\",\n      \"properties\": {\n        \"dtype\": \"number\",\n        \"std\": 3,\n        \"min\": 0,\n        \"max\": 47,\n        \"num_unique_values\": 18,\n        \"samples\": [\n          1,\n          0,\n          9\n        ],\n        \"semantic_type\": \"\",\n        \"description\": \"\"\n      }\n    },\n    {\n      \"column\": \"Score\",\n      \"properties\": {\n        \"dtype\": \"number\",\n        \"std\": 1,\n        \"min\": 1,\n        \"max\": 5,\n        \"num_unique_values\": 5,\n        \"samples\": [\n          1,\n          3,\n          4\n        ],\n        \"semantic_type\": \"\",\n        \"description\": \"\"\n      }\n    },\n    {\n      \"column\": \"Time\",\n      \"properties\": {\n        \"dtype\": \"number\",\n        \"std\": 51146730,\n        \"min\": 1107820800,\n        \"max\": 1351209600,\n        \"num_unique_values\": 489,\n        \"samples\": [\n          1286928000,\n          1335398400,\n          1231632000\n        ],\n        \"semantic_type\": \"\",\n        \"description\": \"\"\n      }\n    },\n    {\n      \"column\": \"Summary\",\n      \"properties\": {\n        \"dtype\": \"string\",\n        \"num_unique_values\": 585,\n        \"samples\": [\n          \"Cat won't go near it!\",\n          \"Ridiculously Good\",\n          \"Great dog food\"\n        ],\n        \"semantic_type\": \"\",\n        \"description\": \"\"\n      }\n    },\n    {\n      \"column\": \"Text\",\n      \"properties\": {\n        \"dtype\": \"string\",\n        \"num_unique_values\": 598,\n        \"samples\": [\n          \"I have been drinking this tea for a long time now.  I used to have to purchase it at a doctor's office because it wasn't available elsewhere.  I'm so glad that I can buy it now from Amazon.com.  I drink this tea throughout the day like other folks drink coffee.  Wonderful taste.\",\n          \"I have to get up really early to work out before work and I get super tired by the middle of the afternoon. I was drinking one 5 hour energy, usually extra strength, each day. It worked well, but gave me a jittery feeling, almost headachy but not quite. My husband got me to try this and I was skeptical, but for me it works as well if not better than the 5 hour energy and doesn't give me that jittery almost-headache feeling.<br /><br />I don't mind the taste--it reminds me of the inside of a fig newton (mmm). And the price is ok, on Amazon anyway. At my grocery store they were almost $3 each, yike!<br /><br />And it's organic--so I can feel good about it, right? It's all about me feeling good!\",\n          \"My daughter that has autism craves hot, spice and pungent foods.  These are her absolute favorite chips!  She calls them her sour chips and wants them in her lunch all the time.  I love the crispy kettle way they're cooked.\"\n        ],\n        \"semantic_type\": \"\",\n        \"description\": \"\"\n      }\n    }\n  ]\n}"
            }
          },
          "metadata": {},
          "execution_count": 365
        }
      ]
    },
    {
      "cell_type": "markdown",
      "source": [
        "# Análise Exploratória"
      ],
      "metadata": {
        "id": "iepKHq22CI7g"
      }
    },
    {
      "cell_type": "code",
      "source": [
        "ax = df['Score'].value_counts().sort_index().plot(kind='bar', title='Número de Revisões por Estrelas', figsize=(10, 5))\n",
        "ax.set_xlabel('Estrelas')\n",
        "ax.set_ylabel('Número de Revisões')\n",
        "plt.show()"
      ],
      "metadata": {
        "colab": {
          "base_uri": "https://localhost:8080/",
          "height": 482
        },
        "id": "0qbCtCRwBrGT",
        "outputId": "3312fda3-4e59-441e-bec4-5f57bfa2141e"
      },
      "execution_count": 366,
      "outputs": [
        {
          "output_type": "display_data",
          "data": {
            "text/plain": [
              "<Figure size 1000x500 with 1 Axes>"
            ],
            "image/png": "[encoded data removed]"
          },
          "metadata": {}
        }
      ]
    },
    {
      "cell_type": "markdown",
      "source": [
        "Análise de Sentimentos"
      ],
      "metadata": {
        "id": "olJuNcuWCNbg"
      }
    },
    {
      "cell_type": "code",
      "source": [
        "nltk.download('vader_lexicon')\n",
        "nltk.download('punkt_tab')\n",
        "nltk.download('words')\n",
        "nltk.download('maxent_ne_chunker_tab')\n",
        "nltk.download('averaged_perceptron_tagger_eng')"
      ],
      "metadata": {
        "colab": {
          "base_uri": "https://localhost:8080/"
        },
        "id": "dMKCYAPwCRJj",
        "outputId": "4e194084-4c73-4ab0-da73-be0babc8423d"
      },
      "execution_count": 367,
      "outputs": [
        {
          "output_type": "stream",
          "name": "stderr",
          "text": [
            "[nltk_data] Downloading package vader_lexicon to /root/nltk_data...\n",
            "[nltk_data]   Package vader_lexicon is already up-to-date!\n",
            "[nltk_data] Downloading package punkt_tab to /root/nltk_data...\n",
            "[nltk_data]   Package punkt_tab is already up-to-date!\n",
            "[nltk_data] Downloading package words to /root/nltk_data...\n",
            "[nltk_data]   Package words is already up-to-date!\n",
            "[nltk_data] Downloading package maxent_ne_chunker_tab to\n",
            "[nltk_data]     /root/nltk_data...\n",
            "[nltk_data]   Package maxent_ne_chunker_tab is already up-to-date!\n",
            "[nltk_data] Downloading package averaged_perceptron_tagger_eng to\n",
            "[nltk_data]     /root/nltk_data...\n",
            "[nltk_data]   Package averaged_perceptron_tagger_eng is already up-to-\n",
            "[nltk_data]       date!\n"
          ]
        },
        {
          "output_type": "execute_result",
          "data": {
            "text/plain": [
              "True"
            ]
          },
          "metadata": {},
          "execution_count": 367
        }
      ]
    },
    {
      "cell_type": "code",
      "source": [
        "example_text = df['Text'][24]\n",
        "print(example_text)"
      ],
      "metadata": {
        "colab": {
          "base_uri": "https://localhost:8080/"
        },
        "id": "XmENW5gdGRdp",
        "outputId": "f4351d00-e381-4ef7-abc3-9ddfe5b52b77"
      },
      "execution_count": 368,
      "outputs": [
        {
          "output_type": "stream",
          "name": "stdout",
          "text": [
            "I have lived out of the US for over 7 yrs now, and I so miss my Twizzlers!!  When I go back to visit or someone visits me, I always stock up.  All I can say is YUM!<br />Sell these in Mexico and you will have a faithful buyer, more often than I'm able to buy them right now.\n"
          ]
        }
      ]
    },
    {
      "cell_type": "code",
      "source": [
        "tokens = nltk.word_tokenize(example_text)\n",
        "\n",
        "tokens[:10]"
      ],
      "metadata": {
        "colab": {
          "base_uri": "https://localhost:8080/"
        },
        "id": "UUmW5WYyGiak",
        "outputId": "82a310d8-c153-465e-afb8-5259b8132b5b"
      },
      "execution_count": 369,
      "outputs": [
        {
          "output_type": "execute_result",
          "data": {
            "text/plain": [
              "['I', 'have', 'lived', 'out', 'of', 'the', 'US', 'for', 'over', '7']"
            ]
          },
          "metadata": {},
          "execution_count": 369
        }
      ]
    },
    {
      "cell_type": "code",
      "source": [
        "tagged = nltk.pos_tag(tokens)\n",
        "\n",
        "tagged[:10]"
      ],
      "metadata": {
        "colab": {
          "base_uri": "https://localhost:8080/"
        },
        "id": "7sSwXTiwGye-",
        "outputId": "d6046daa-19de-41d9-d39c-d127780ba797"
      },
      "execution_count": 370,
      "outputs": [
        {
          "output_type": "execute_result",
          "data": {
            "text/plain": [
              "[('I', 'PRP'),\n",
              " ('have', 'VBP'),\n",
              " ('lived', 'VBN'),\n",
              " ('out', 'IN'),\n",
              " ('of', 'IN'),\n",
              " ('the', 'DT'),\n",
              " ('US', 'NNP'),\n",
              " ('for', 'IN'),\n",
              " ('over', 'IN'),\n",
              " ('7', 'CD')]"
            ]
          },
          "metadata": {},
          "execution_count": 370
        }
      ]
    },
    {
      "cell_type": "code",
      "source": [
        "entities = nltk.chunk.ne_chunk(tagged)\n",
        "\n",
        "entities.pprint()"
      ],
      "metadata": {
        "colab": {
          "base_uri": "https://localhost:8080/"
        },
        "id": "ynhyu4vsG-Mv",
        "outputId": "bc85a9dc-5718-4cf3-df76-e0d9b454ceee"
      },
      "execution_count": 371,
      "outputs": [
        {
          "output_type": "stream",
          "name": "stdout",
          "text": [
            "(S\n",
            "  I/PRP\n",
            "  have/VBP\n",
            "  lived/VBN\n",
            "  out/IN\n",
            "  of/IN\n",
            "  the/DT\n",
            "  (ORGANIZATION US/NNP)\n",
            "  for/IN\n",
            "  over/IN\n",
            "  7/CD\n",
            "  yrs/NNS\n",
            "  now/RB\n",
            "  ,/,\n",
            "  and/CC\n",
            "  I/PRP\n",
            "  so/RB\n",
            "  miss/JJ\n",
            "  my/PRP$\n",
            "  Twizzlers/NNS\n",
            "  !/.\n",
            "  !/.\n",
            "  When/WRB\n",
            "  I/PRP\n",
            "  go/VBP\n",
            "  back/RB\n",
            "  to/TO\n",
            "  visit/NN\n",
            "  or/CC\n",
            "  someone/NN\n",
            "  visits/NNS\n",
            "  me/PRP\n",
            "  ,/,\n",
            "  I/PRP\n",
            "  always/RB\n",
            "  stock/NN\n",
            "  up/RP\n",
            "  ./.\n",
            "  All/DT\n",
            "  I/PRP\n",
            "  can/MD\n",
            "  say/VB\n",
            "  is/VBZ\n",
            "  (ORGANIZATION YUM/JJ)\n",
            "  !/.\n",
            "  </JJ\n",
            "  br/NN\n",
            "  //NNP\n",
            "  >/NNP\n",
            "  Sell/NNP\n",
            "  these/DT\n",
            "  in/IN\n",
            "  (GPE Mexico/NNP)\n",
            "  and/CC\n",
            "  you/PRP\n",
            "  will/MD\n",
            "  have/VB\n",
            "  a/DT\n",
            "  faithful/JJ\n",
            "  buyer/NN\n",
            "  ,/,\n",
            "  more/RBR\n",
            "  often/RB\n",
            "  than/IN\n",
            "  I/PRP\n",
            "  'm/VBP\n",
            "  able/JJ\n",
            "  to/TO\n",
            "  buy/VB\n",
            "  them/PRP\n",
            "  right/RB\n",
            "  now/RB\n",
            "  ./.)\n"
          ]
        }
      ]
    },
    {
      "cell_type": "code",
      "source": [
        "nltk.download('stopwords')\n",
        "nltk.download('wordnet')"
      ],
      "metadata": {
        "colab": {
          "base_uri": "https://localhost:8080/"
        },
        "id": "DkwEZNppgBKK",
        "outputId": "f00914cb-fa4c-41d4-d5b3-5f04dce70cee"
      },
      "execution_count": 372,
      "outputs": [
        {
          "output_type": "stream",
          "name": "stderr",
          "text": [
            "[nltk_data] Downloading package stopwords to /root/nltk_data...\n",
            "[nltk_data]   Package stopwords is already up-to-date!\n",
            "[nltk_data] Downloading package wordnet to /root/nltk_data...\n",
            "[nltk_data]   Package wordnet is already up-to-date!\n"
          ]
        },
        {
          "output_type": "execute_result",
          "data": {
            "text/plain": [
              "True"
            ]
          },
          "metadata": {},
          "execution_count": 372
        }
      ]
    },
    {
      "cell_type": "markdown",
      "source": [
        "# Aplicação do modelo SVM com Box of Words (BOW)"
      ],
      "metadata": {
        "id": "gnh0J8qbfePq"
      }
    },
    {
      "cell_type": "markdown",
      "source": [
        "## Pré-processamento de dados"
      ],
      "metadata": {
        "id": "midcoMl_j2CG"
      }
    },
    {
      "cell_type": "code",
      "source": [
        "# Remove stopwords das avaliações\n",
        "lemma = WordNetLemmatizer()\n",
        "stop_words = stopwords.words(\"english\")\n",
        "review_cleaned = []\n",
        "\n",
        "for review in df['Text']:\n",
        "  review = nltk.word_tokenize(review.lower())\n",
        "  review = [lemma.lemmatize(word) for word in review]\n",
        "\n",
        "  review = [word for word in review if word not in stop_words]\n",
        "  review = ' '.join(review)\n",
        "\n",
        "  review_cleaned.append(review)\n"
      ],
      "metadata": {
        "id": "4GXytK0jfj9H"
      },
      "execution_count": 373,
      "outputs": []
    },
    {
      "cell_type": "code",
      "source": [
        "vectorizer = CountVectorizer(max_features=10000)\n",
        "BOW = vectorizer.fit_transform(review_cleaned)"
      ],
      "metadata": {
        "id": "FFOvOHNJiMRo"
      },
      "execution_count": 374,
      "outputs": []
    },
    {
      "cell_type": "markdown",
      "source": [
        "## Separando entre conjuntos de treino e teste"
      ],
      "metadata": {
        "id": "w8jv8dswjvRq"
      }
    },
    {
      "cell_type": "code",
      "source": [
        "bow_x_train,bow_x_test,bow_y_train,bow_y_test = train_test_split(BOW, np.asarray(df['Score']))\n",
        "\n",
        "print(bow_x_train.shape)\n",
        "print(bow_x_test.shape)\n",
        "print(bow_y_train.shape)\n",
        "print(bow_y_test.shape)"
      ],
      "metadata": {
        "colab": {
          "base_uri": "https://localhost:8080/"
        },
        "id": "0ZWgFl6giQrv",
        "outputId": "d57ac59c-7d54-46a4-95b8-6000b9ad971b"
      },
      "execution_count": 375,
      "outputs": [
        {
          "output_type": "stream",
          "name": "stdout",
          "text": [
            "(450, 3986)\n",
            "(150, 3986)\n",
            "(450,)\n",
            "(150,)\n"
          ]
        }
      ]
    },
    {
      "cell_type": "markdown",
      "source": [
        "## Classificando o SVM e buscando sua acurácia"
      ],
      "metadata": {
        "id": "Mbm2vlghjsNi"
      }
    },
    {
      "cell_type": "code",
      "source": [
        "svm_model = SVC()\n",
        "svm_model.fit(bow_x_train, bow_y_train)\n",
        "\n",
        "bow_y_pred = svm_model.predict(bow_x_test)\n",
        "\n",
        "print(\"Acurácia: \", svm_model.score(bow_x_test,bow_y_test))"
      ],
      "metadata": {
        "colab": {
          "base_uri": "https://localhost:8080/"
        },
        "id": "aI0ROalcir2W",
        "outputId": "dbfe3de4-4db4-47dc-e6d2-9df189019ae3"
      },
      "execution_count": 376,
      "outputs": [
        {
          "output_type": "stream",
          "name": "stdout",
          "text": [
            "Acurácia:  0.62\n"
          ]
        }
      ]
    },
    {
      "cell_type": "markdown",
      "source": [
        "# Aplicação de modelo BERT"
      ],
      "metadata": {
        "id": "Qmqoa4j6C6fL"
      }
    },
    {
      "cell_type": "code",
      "source": [
        "bert_tokenizer = BertTokenizer.from_pretrained(\"bert-base-uncased\")\n",
        "bert_model = BertModel.from_pretrained(\"bert-base-uncased\")"
      ],
      "metadata": {
        "id": "cdqOr2YRC9jh"
      },
      "execution_count": 377,
      "outputs": []
    },
    {
      "cell_type": "markdown",
      "source": [
        "## Separando entre conjuntos de treino e teste"
      ],
      "metadata": {
        "id": "bBkGGOK8aPxo"
      }
    },
    {
      "cell_type": "code",
      "source": [
        "bert_x_train, bert_x_test, bert_y_train, bert_y_test = train_test_split(df['Text'], df['Score'], test_size=0.2, random_state=42)\n",
        "\n",
        "print(bert_x_train.shape)\n",
        "print(bert_x_test.shape)\n",
        "print(bert_y_train.shape)\n",
        "print(bert_y_test.shape)"
      ],
      "metadata": {
        "colab": {
          "base_uri": "https://localhost:8080/"
        },
        "id": "8Pt2z49zJsHq",
        "outputId": "09a0a177-e39f-4f57-b52e-4c637ba4da01"
      },
      "execution_count": 378,
      "outputs": [
        {
          "output_type": "stream",
          "name": "stdout",
          "text": [
            "(480,)\n",
            "(120,)\n",
            "(480,)\n",
            "(120,)\n"
          ]
        }
      ]
    },
    {
      "cell_type": "markdown",
      "source": [
        "Gerando os embeddings com os modelos do BERT"
      ],
      "metadata": {
        "id": "1ic1JfkwbOds"
      }
    },
    {
      "cell_type": "code",
      "source": [
        "def get_bert_embeddings(texts):\n",
        "    embeddings = []\n",
        "    for text in tqdm(texts):\n",
        "        inputs = bert_tokenizer(text, return_tensors=\"pt\", truncation=True, padding=True, max_length=512)\n",
        "        outputs = bert_model(**inputs)\n",
        "        embeddings.append(outputs.last_hidden_state[:, 0, :].detach().numpy())\n",
        "    return np.vstack(embeddings)"
      ],
      "metadata": {
        "id": "HxAQXajLDRm4"
      },
      "execution_count": 379,
      "outputs": []
    },
    {
      "cell_type": "code",
      "source": [
        "x_train_embedded = get_bert_embeddings(bert_x_train)\n",
        "x_test_embedded = get_bert_embeddings(bert_x_test)"
      ],
      "metadata": {
        "colab": {
          "base_uri": "https://localhost:8080/"
        },
        "id": "o27-vOEGD2BL",
        "outputId": "732ee609-15ae-41bd-d37d-1c7a9fcdc9b0"
      },
      "execution_count": 380,
      "outputs": [
        {
          "output_type": "stream",
          "name": "stderr",
          "text": [
            "100%|██████████| 480/480 [03:26<00:00,  2.33it/s]\n",
            "100%|██████████| 120/120 [00:56<00:00,  2.13it/s]\n"
          ]
        }
      ]
    },
    {
      "cell_type": "code",
      "source": [
        "bert_model = SVC()\n",
        "bert_model.fit(x_train_embedded, bert_y_train)\n",
        "\n",
        "bert_y_pred = bert_model.predict(x_test_embedded)"
      ],
      "metadata": {
        "id": "VYYyMTWwJwdr"
      },
      "execution_count": 381,
      "outputs": []
    },
    {
      "cell_type": "markdown",
      "source": [
        "# Aplicação de modelo SVM com Embeddings"
      ],
      "metadata": {
        "id": "jMGyxu8QU31C"
      }
    },
    {
      "cell_type": "code",
      "source": [
        "# Pré-processamento textual antes de treinar o modelo Word2Vec\n",
        "from nltk.tokenize import word_tokenize\n",
        "# tokenizador de sentença do nltk\n",
        "nltk.download('punkt')\n",
        "\n",
        "tokenized = [word_tokenize(i) for i in df['Text'].values]"
      ],
      "metadata": {
        "colab": {
          "base_uri": "https://localhost:8080/"
        },
        "id": "jJB7qyPvaVal",
        "outputId": "43bfe422-153a-4564-d688-e9cbdaeff9ae"
      },
      "execution_count": 382,
      "outputs": [
        {
          "output_type": "stream",
          "name": "stderr",
          "text": [
            "[nltk_data] Downloading package punkt to /root/nltk_data...\n",
            "[nltk_data]   Package punkt is already up-to-date!\n"
          ]
        }
      ]
    },
    {
      "cell_type": "code",
      "source": [
        "from gensim.models import Word2Vec\n",
        "model = Word2Vec(tokenized, vector_size=50, window=5, min_count=1, workers=4)"
      ],
      "metadata": {
        "id": "7oP5NVSLVCeK"
      },
      "execution_count": 383,
      "outputs": []
    },
    {
      "cell_type": "code",
      "source": [
        "model.wv.most_similar('free')"
      ],
      "metadata": {
        "colab": {
          "base_uri": "https://localhost:8080/"
        },
        "id": "SwXFuobLfHkW",
        "outputId": "8ab6680f-8c76-40db-86d1-fdf8165dfcbe"
      },
      "execution_count": 384,
      "outputs": [
        {
          "output_type": "execute_result",
          "data": {
            "text/plain": [
              "[('has', 0.9987568259239197),\n",
              " ('only', 0.9986949563026428),\n",
              " ('other', 0.9986229538917542),\n",
              " ('or', 0.9986116290092468),\n",
              " ('are', 0.9985514283180237),\n",
              " ('flavors', 0.998540461063385),\n",
              " ('&', 0.9985109567642212),\n",
              " ('from', 0.9984948635101318),\n",
              " ('out', 0.998481810092926),\n",
              " ('a', 0.9984713196754456)]"
            ]
          },
          "metadata": {},
          "execution_count": 384
        }
      ]
    },
    {
      "cell_type": "markdown",
      "source": [
        "## Processamento de texto em sequence"
      ],
      "metadata": {
        "id": "7M21bWwd8U91"
      }
    },
    {
      "cell_type": "code",
      "source": [
        "def create_sequence(words_list, words_max, seq_len, matrix):\n",
        "  res = {}\n",
        "  res['seq_len'] = seq_len\n",
        "  res['embed_matrix'] = matrix\n",
        "\n",
        "  temp_vocab = list(set(words_list))\n",
        "  word_cnts = {}\n",
        "\n",
        "  for word in temp_vocab:\n",
        "      count = len([0 for w in words_list if w == word])\n",
        "      word_cnts[word] = count\n",
        "      counts = list(word_cnts.values())\n",
        "      indexes = list(range(len(counts)))\n",
        "\n",
        "  res['word_cnts'] = word_cnts\n",
        "\n",
        "  cnt = 0\n",
        "  while cnt + 1 != len(counts):\n",
        "      cnt = 0\n",
        "      for i in range(len(counts) - 1):\n",
        "          if counts[i] < counts[i + 1]:\n",
        "              counts[i + 1],counts[i] = counts[i],counts[i + 1]\n",
        "              indexes[i],indexes[i + 1] = indexes[i + 1],indexes[i]\n",
        "          else:\n",
        "              cnt += 1\n",
        "\n",
        "  vocab = []\n",
        "  for ind in indexes[:words_max]:\n",
        "      vocab.append(temp_vocab[ind])\n",
        "\n",
        "  res['vocab'] = vocab\n",
        "\n",
        "  return res"
      ],
      "metadata": {
        "id": "_G4BCSctZFVR"
      },
      "execution_count": 385,
      "outputs": []
    },
    {
      "cell_type": "code",
      "source": [
        "def text_to_vector(sequence, text):\n",
        "  text_tokens = text.split()\n",
        "  length = len(text_tokens)-1 if len(text_tokens) < sequence['seq_len'] else sequence['seq_len'] -1\n",
        "  vector = []\n",
        "\n",
        "  for tk in text_tokens[:length]:\n",
        "    try:\n",
        "      vector.append(sequence['embed_matrix'][tk])\n",
        "    except:\n",
        "      pass\n",
        "\n",
        "  last = sequence['seq_len'] - len(vector)\n",
        "  for i in range(last):\n",
        "    vector.append(np.zeros(sequence['embed_matrix'].vector_size))\n",
        "\n",
        "  return np.asarray(vector).flatten()"
      ],
      "metadata": {
        "id": "WPtKnkWM3cJ2"
      },
      "execution_count": 386,
      "outputs": []
    },
    {
      "cell_type": "code",
      "source": [
        "sequence = create_sequence(\n",
        "    [token for seq in tokenized for token in seq],\n",
        "    1200,\n",
        "    15,\n",
        "    model.wv)\n",
        "\n",
        "tst_vector = text_to_vector(sequence, df['Text'][0])\n",
        "tst_vector.shape"
      ],
      "metadata": {
        "colab": {
          "base_uri": "https://localhost:8080/"
        },
        "id": "4rBDsAZw1ZrM",
        "outputId": "541414b6-4312-4a8b-e96c-da91c24a3088"
      },
      "execution_count": 387,
      "outputs": [
        {
          "output_type": "execute_result",
          "data": {
            "text/plain": [
              "(750,)"
            ]
          },
          "metadata": {},
          "execution_count": 387
        }
      ]
    },
    {
      "cell_type": "markdown",
      "source": [
        "## Aplicando PCA para reduzir o tempo do classificador SVM"
      ],
      "metadata": {
        "id": "1mppWop08Sdx"
      }
    },
    {
      "cell_type": "code",
      "source": [
        "x_vector = np.asarray([text_to_vector(sequence, \" \".join(text)) for text in tokenized])\n",
        "x_vector.shape"
      ],
      "metadata": {
        "colab": {
          "base_uri": "https://localhost:8080/"
        },
        "id": "B4Mn4MLA8mgn",
        "outputId": "492e230f-752c-4983-a596-93b0f20e8f40"
      },
      "execution_count": 388,
      "outputs": [
        {
          "output_type": "execute_result",
          "data": {
            "text/plain": [
              "(600, 750)"
            ]
          },
          "metadata": {},
          "execution_count": 388
        }
      ]
    },
    {
      "cell_type": "code",
      "source": [
        "from sklearn.decomposition import PCA\n",
        "pca_model = PCA(n_components=50)\n",
        "\n",
        "pca_model.fit(x_vector)\n",
        "\n",
        "# Valida a % de eficácia dos componentes do PCA\n",
        "print(\"Soma da Variância: \",sum(pca_model.explained_variance_ratio_))"
      ],
      "metadata": {
        "colab": {
          "base_uri": "https://localhost:8080/"
        },
        "id": "6C3w-nad9iYb",
        "outputId": "37f251b5-bfc7-4373-b880-d82b5a011717"
      },
      "execution_count": 389,
      "outputs": [
        {
          "output_type": "stream",
          "name": "stdout",
          "text": [
            "Soma da Variância:  0.9990938168165059\n"
          ]
        }
      ]
    },
    {
      "cell_type": "code",
      "source": [
        "x_compressed = pca_model.transform(x_vector)\n",
        "x_compressed.shape"
      ],
      "metadata": {
        "colab": {
          "base_uri": "https://localhost:8080/"
        },
        "id": "-QaRgu7m-Z5v",
        "outputId": "2f4cdde7-00b2-460b-9391-2afb50a1f787"
      },
      "execution_count": 390,
      "outputs": [
        {
          "output_type": "execute_result",
          "data": {
            "text/plain": [
              "(600, 50)"
            ]
          },
          "metadata": {},
          "execution_count": 390
        }
      ]
    },
    {
      "cell_type": "markdown",
      "source": [
        "## Dividindo os dados de Treino e Teste"
      ],
      "metadata": {
        "id": "J8c1o6EC-oXI"
      }
    },
    {
      "cell_type": "code",
      "source": [
        "svm_x_train,svm_x_test,svm_y_train,svm_y_test = train_test_split(x_compressed, df['Score'], test_size=0.2, random_state=42)\n",
        "\n",
        "print(svm_x_train.shape)\n",
        "print(svm_x_test.shape)\n",
        "print(svm_y_train.shape)\n",
        "print(svm_y_test.shape)"
      ],
      "metadata": {
        "id": "Nt2asa1W-rla",
        "colab": {
          "base_uri": "https://localhost:8080/"
        },
        "outputId": "d1942e3f-e98f-4cf2-f8ed-731371c74a82"
      },
      "execution_count": 391,
      "outputs": [
        {
          "output_type": "stream",
          "name": "stdout",
          "text": [
            "(480, 50)\n",
            "(120, 50)\n",
            "(480,)\n",
            "(120,)\n"
          ]
        }
      ]
    },
    {
      "cell_type": "markdown",
      "source": [
        "## Classificando o SVM"
      ],
      "metadata": {
        "id": "ZpyOd5EcWboo"
      }
    },
    {
      "cell_type": "code",
      "source": [
        "svm = SVC()\n",
        "svm.fit(svm_x_train,svm_y_train)\n",
        "\n",
        "y_pred = svm.predict(svm_x_test)\n",
        "\n",
        "print(\"Acurácia: \", svm.score(svm_x_test,svm_y_test))"
      ],
      "metadata": {
        "colab": {
          "base_uri": "https://localhost:8080/"
        },
        "id": "hEmIM4ThWB7J",
        "outputId": "b4386a7c-985d-445c-d44f-a33cc4e7234d"
      },
      "execution_count": 392,
      "outputs": [
        {
          "output_type": "stream",
          "name": "stdout",
          "text": [
            "Acurácia:  0.6416666666666667\n"
          ]
        }
      ]
    },
    {
      "cell_type": "markdown",
      "source": [
        "# Avaliando os Três Modelos"
      ],
      "metadata": {
        "id": "IqmV3J0Z-E9R"
      }
    },
    {
      "cell_type": "code",
      "source": [
        "from sklearn.metrics import accuracy_score, f1_score"
      ],
      "metadata": {
        "id": "HpQOODFO-RkG"
      },
      "execution_count": 393,
      "outputs": []
    },
    {
      "cell_type": "code",
      "source": [
        "def evaluate_model(y_true, y_pred, model_name):\n",
        "    accuracy = accuracy_score(y_true, y_pred)\n",
        "    f1 = f1_score(y_true, y_pred, average=\"weighted\")\n",
        "    print(f\"Modelo: {model_name}\")\n",
        "    print(f\"Acurácia: {accuracy:.4f}\")\n",
        "    print(f\"F1: {f1:.4f}\\n\")\n",
        "    return accuracy, f1"
      ],
      "metadata": {
        "id": "w-BLjdMI-ITJ"
      },
      "execution_count": 394,
      "outputs": []
    },
    {
      "cell_type": "code",
      "source": [
        "## SVM + BOW\n",
        "evaluate_model(bow_y_test, bow_y_pred, \"SVM + BOW\")"
      ],
      "metadata": {
        "colab": {
          "base_uri": "https://localhost:8080/"
        },
        "id": "djNqKl95-Tch",
        "outputId": "fab99f6f-c0f1-40fe-c40f-88209b15f280"
      },
      "execution_count": 395,
      "outputs": [
        {
          "output_type": "stream",
          "name": "stdout",
          "text": [
            "Modelo: SVM + BOW\n",
            "Acurácia: 0.6200\n",
            "F1: 0.4746\n",
            "\n"
          ]
        },
        {
          "output_type": "execute_result",
          "data": {
            "text/plain": [
              "(0.62, 0.4745679012345678)"
            ]
          },
          "metadata": {},
          "execution_count": 395
        }
      ]
    },
    {
      "cell_type": "code",
      "source": [
        "## BERT\n",
        "evaluate_model(bert_y_test, bert_y_pred, \"BERT\")"
      ],
      "metadata": {
        "colab": {
          "base_uri": "https://localhost:8080/"
        },
        "id": "m8vKFTGCBLkL",
        "outputId": "5ae17fc1-362b-4fcf-b3f0-98dbf9601ff1"
      },
      "execution_count": 396,
      "outputs": [
        {
          "output_type": "stream",
          "name": "stdout",
          "text": [
            "Modelo: BERT\n",
            "Acurácia: 0.6417\n",
            "F1: 0.5016\n",
            "\n"
          ]
        },
        {
          "output_type": "execute_result",
          "data": {
            "text/plain": [
              "(0.6416666666666667, 0.5016074450084602)"
            ]
          },
          "metadata": {},
          "execution_count": 396
        }
      ]
    },
    {
      "cell_type": "code",
      "source": [
        "## SVM + Embeddings\n",
        "evaluate_model(svm_y_test, y_pred, \"SVM + Embeddings\")"
      ],
      "metadata": {
        "colab": {
          "base_uri": "https://localhost:8080/"
        },
        "id": "JqA3L3mQA56s",
        "outputId": "c900ebac-81ab-4a1a-e013-0d9e5e1bed0a"
      },
      "execution_count": 397,
      "outputs": [
        {
          "output_type": "stream",
          "name": "stdout",
          "text": [
            "Modelo: SVM + Embeddings\n",
            "Acurácia: 0.6417\n",
            "F1: 0.5016\n",
            "\n"
          ]
        },
        {
          "output_type": "execute_result",
          "data": {
            "text/plain": [
              "(0.6416666666666667, 0.5016074450084602)"
            ]
          },
          "metadata": {},
          "execution_count": 397
        }
      ]
    }
  ]
}